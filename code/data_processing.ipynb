{
 "cells": [
  {
   "cell_type": "code",
   "execution_count": 1,
   "metadata": {
    "scrolled": true
   },
   "outputs": [
    {
     "name": "stdout",
     "output_type": "stream",
     "text": [
      "999999999999999\n"
     ]
    },
    {
     "name": "stderr",
     "output_type": "stream",
     "text": [
      "C:\\Users\\welcm\\anaconda3\\lib\\site-packages\\numpy\\_distributor_init.py:30: UserWarning: loaded more than 1 DLL from .libs:\n",
      "C:\\Users\\welcm\\anaconda3\\lib\\site-packages\\numpy\\.libs\\libopenblas.4SP5SUA7CBGXUEOC35YP2ASOICYYEQZZ.gfortran-win_amd64.dll\n",
      "C:\\Users\\welcm\\anaconda3\\lib\\site-packages\\numpy\\.libs\\libopenblas.EL2C6PLE4ZYW3ECEVIV3OXXGRN2NRFM2.gfortran-win_amd64.dll\n",
      "C:\\Users\\welcm\\anaconda3\\lib\\site-packages\\numpy\\.libs\\libopenblas.NOIJJG62EMASZI6NYURL6JBKM4EVBGM7.gfortran-win_amd64.dll\n",
      "  warnings.warn(\"loaded more than 1 DLL from .libs:\"\n"
     ]
    }
   ],
   "source": [
    "import os\n",
    "os.environ.setdefault('OPENCV_IO_MAX_IMAGE_PIXELS', '999999999999999')\n",
    "print(os.environ['OPENCV_IO_MAX_IMAGE_PIXELS'])\n",
    "import cv2 \n",
    "import numpy as np\n",
    "import glob\n",
    "\n",
    "import numpy as np\n",
    "from matplotlib import pyplot as plt\n",
    "from patchify import patchify\n",
    "import tifffile as tiff\n",
    "from PIL import Image\n",
    "import random\n",
    "from PIL import Image\n",
    "Image.MAX_IMAGE_PIXELS = 999999999999999"
   ]
  },
  {
   "cell_type": "code",
   "execution_count": 4,
   "metadata": {},
   "outputs": [
    {
     "name": "stdout",
     "output_type": "stream",
     "text": [
      "Carysfort_2019_Elkhorn_Mo.jpg\n",
      "(46657, 38135, 3)\n",
      "Carysfort_2020_Elkhorn_Mo.jpg\n",
      "(35651, 19495, 3)\n",
      "Carysfort_2020_Staghorn_Mo.jpg\n",
      "(27134, 24700, 3)\n",
      "Carysfort_2022_Elkhorn_Mo.jpg\n",
      "(32441, 37673, 3)\n",
      "Carysfort_2022_Staghorn_Mo.jpg\n",
      "(17230, 16552, 3)\n",
      "Eastern_2022_Elkhorn_Mo.jpg\n",
      "(31684, 49797, 3)\n",
      "Eastern_2022_Staghorn_Mo.jpg\n",
      "(25645, 39228, 3)\n",
      "Horseshoe_2020_Elkhorn_Mo.jpg\n",
      "(20983, 22683, 3)\n",
      "Horseshoe_2020_Staghorn_Mo.jpg\n",
      "(32272, 20754, 3)\n",
      "Looe_2019_Staghorn_Mo.jpg\n",
      "(56081, 20243, 3)\n",
      "North_2019_Elkhorn_Mo.jpg\n",
      "(26825, 26842, 3)\n",
      "Pickles_2019_Staghorn_Mo.jpg\n",
      "(56001, 25252, 3)\n",
      "Sombrero_2020_Elkhorn_Mo.jpg\n",
      "(27927, 14568, 3)\n",
      "Sombrero_2020_Staghorn_Mo.jpg\n",
      "(58097, 17621, 3)\n",
      "Sombrero_2022_Elkhorn_Mo.jpg\n",
      "(24804, 24224, 3)\n",
      "Sombrero_2022_Staghorn_Mo.jpg\n",
      "(26753, 19510, 3)\n"
     ]
    }
   ],
   "source": [
    "root_directory = \"C:/Users/welcm/Documents/a-coral-project/process_data/\" \n",
    "\n",
    "img_dir = root_directory + \"mosaics/\"\n",
    "\n",
    "for path, subdirs, files in os.walk(img_dir): \n",
    "    dirname = path.split(os.path.sep)[-1]\n",
    "    images = os.listdir(path)  #List of all image names in this subdirectory\n",
    "    for i, image_name in enumerate(images):  \n",
    "        if image_name.endswith(\".jpg\"):\n",
    "            image = cv2.imread(path+\"/\"+image_name, 1)  #Read each image as BGR\n",
    "            print(image_name)\n",
    "            print(image.shape)"
   ]
  },
  {
   "cell_type": "code",
   "execution_count": 5,
   "metadata": {},
   "outputs": [
    {
     "name": "stdout",
     "output_type": "stream",
     "text": [
      "Carysfort_2019_Elkhorn_Key.jpg\n",
      "(46657, 38135, 3)\n",
      "Carysfort_2020_Elkhorn_Key.jpg\n",
      "(35651, 19495, 3)\n",
      "Carysfort_2020_Staghorn_Key.jpg\n",
      "(27134, 24700, 3)\n",
      "Carysfort_2022_Elkhorn_Key.jpg\n",
      "(32441, 37673, 3)\n",
      "Carysfort_2022_Staghorn_Key.jpg\n",
      "(17230, 16552, 3)\n",
      "Eastern_2022_Elkhorn_Key.jpg\n",
      "(31684, 49797, 3)\n",
      "Eastern_2022_Staghorn_Key.jpg\n",
      "(25645, 39228, 3)\n",
      "Horseshoe_2020_Elkhorn_Key.jpg\n",
      "(20983, 22683, 3)\n",
      "Horseshoe_2020_Staghorn_Key.jpg\n",
      "(32272, 20754, 3)\n",
      "Looe_2019_Staghorn_Key.jpg\n",
      "(56081, 20243, 3)\n",
      "North_2019_Elkhorn_Key.jpg\n",
      "(26825, 26842, 3)\n",
      "Pickles_2019_Staghorn_Key.jpg\n",
      "(56001, 25252, 3)\n",
      "Sombrero_2020_Elkhorn_Key.jpg\n",
      "(27927, 14568, 3)\n",
      "Sombrero_2020_Staghorn_Key.jpg\n",
      "(58097, 17621, 3)\n",
      "Sombrero_2022_Elkhorn_Key.jpg\n",
      "(24804, 24224, 3)\n",
      "Sombrero_2022_Staghorn_Key.jpg\n",
      "(26753, 19510, 3)\n"
     ]
    }
   ],
   "source": [
    "root_directory = \"C:/Users/welcm/Documents/a-coral-project/process_data/\" \n",
    "\n",
    "img_dir = root_directory + \"keys/\"\n",
    "\n",
    "for path, subdirs, files in os.walk(img_dir): \n",
    "    dirname = path.split(os.path.sep)[-1]\n",
    "    images = os.listdir(path)  #List of all image names in this subdirectory\n",
    "    for i, image_name in enumerate(images):  \n",
    "        if image_name.endswith(\".jpg\"):\n",
    "            image = cv2.imread(path+\"/\"+image_name, 1)  #Read each image as BGR\n",
    "            print(image_name)\n",
    "            print(image.shape)"
   ]
  },
  {
   "cell_type": "markdown",
   "metadata": {},
   "source": [
    "# Patchifying Mosaics and Keys"
   ]
  },
  {
   "cell_type": "code",
   "execution_count": 6,
   "metadata": {
    "id": "f12zgQlA73CP"
   },
   "outputs": [
    {
     "name": "stdout",
     "output_type": "stream",
     "text": [
      "['Carysfort_2019_Elkhorn_Mo.jpg', 'Carysfort_2020_Elkhorn_Mo.jpg', 'Carysfort_2020_Staghorn_Mo.jpg', 'Carysfort_2022_Elkhorn_Mo.jpg', 'Carysfort_2022_Staghorn_Mo.jpg', 'Eastern_2022_Elkhorn_Mo.jpg', 'Eastern_2022_Staghorn_Mo.jpg', 'Horseshoe_2020_Elkhorn_Mo.jpg', 'Horseshoe_2020_Staghorn_Mo.jpg', 'Looe_2019_Staghorn_Mo.jpg', 'North_2019_Elkhorn_Mo.jpg', 'Pickles_2019_Staghorn_Mo.jpg', 'Sombrero_2020_Elkhorn_Mo.jpg', 'Sombrero_2020_Staghorn_Mo.jpg', 'Sombrero_2022_Elkhorn_Mo.jpg', 'Sombrero_2022_Staghorn_Mo.jpg']\n",
      "Now patchifying image: C:/Users/welcm/Documents/a-coral-project/process_data/mosaics/Carysfort_2019_Elkhorn_Mo.jpg\n",
      "Now patchifying image: C:/Users/welcm/Documents/a-coral-project/process_data/mosaics/Carysfort_2020_Elkhorn_Mo.jpg\n",
      "Now patchifying image: C:/Users/welcm/Documents/a-coral-project/process_data/mosaics/Carysfort_2020_Staghorn_Mo.jpg\n",
      "Now patchifying image: C:/Users/welcm/Documents/a-coral-project/process_data/mosaics/Carysfort_2022_Elkhorn_Mo.jpg\n",
      "Now patchifying image: C:/Users/welcm/Documents/a-coral-project/process_data/mosaics/Carysfort_2022_Staghorn_Mo.jpg\n",
      "Now patchifying image: C:/Users/welcm/Documents/a-coral-project/process_data/mosaics/Eastern_2022_Elkhorn_Mo.jpg\n",
      "Now patchifying image: C:/Users/welcm/Documents/a-coral-project/process_data/mosaics/Eastern_2022_Staghorn_Mo.jpg\n",
      "Now patchifying image: C:/Users/welcm/Documents/a-coral-project/process_data/mosaics/Horseshoe_2020_Elkhorn_Mo.jpg\n",
      "Now patchifying image: C:/Users/welcm/Documents/a-coral-project/process_data/mosaics/Horseshoe_2020_Staghorn_Mo.jpg\n",
      "Now patchifying image: C:/Users/welcm/Documents/a-coral-project/process_data/mosaics/Looe_2019_Staghorn_Mo.jpg\n",
      "Now patchifying image: C:/Users/welcm/Documents/a-coral-project/process_data/mosaics/North_2019_Elkhorn_Mo.jpg\n",
      "Now patchifying image: C:/Users/welcm/Documents/a-coral-project/process_data/mosaics/Pickles_2019_Staghorn_Mo.jpg\n",
      "Now patchifying image: C:/Users/welcm/Documents/a-coral-project/process_data/mosaics/Sombrero_2020_Elkhorn_Mo.jpg\n",
      "Now patchifying image: C:/Users/welcm/Documents/a-coral-project/process_data/mosaics/Sombrero_2020_Staghorn_Mo.jpg\n",
      "Now patchifying image: C:/Users/welcm/Documents/a-coral-project/process_data/mosaics/Sombrero_2022_Elkhorn_Mo.jpg\n",
      "Now patchifying image: C:/Users/welcm/Documents/a-coral-project/process_data/mosaics/Sombrero_2022_Staghorn_Mo.jpg\n"
     ]
    }
   ],
   "source": [
    "root_directory = \"C:/Users/welcm/Documents/a-coral-project/process_data/\" \n",
    "\n",
    "patch_size = 256\n",
    "img_dir = root_directory + \"mosaics/\"\n",
    "\n",
    "for path, subdirs, files in os.walk(img_dir): \n",
    "    dirname = path.split(os.path.sep)[-1]\n",
    "    images = os.listdir(path)  #List of all image names in this subdirectory\n",
    "    print(images)\n",
    "    for i, image_name in enumerate(images):  \n",
    "        if image_name.endswith(\".jpg\"):\n",
    "            image = cv2.imread(path+\"/\"+image_name, 1)  #Read each image as BGR\n",
    "            SIZE_X = (image.shape[1]//patch_size)*patch_size #Nearest size divisible by our patch size\n",
    "            SIZE_Y = (image.shape[0]//patch_size)*patch_size #Nearest size divisible by our patch size\n",
    "            image = Image.fromarray(image)\n",
    "            image = image.crop((0 ,0, SIZE_X, SIZE_Y))  #Crop from top left corner\n",
    "            image = np.array(image)             \n",
    "   \n",
    "            #Extract patches from each image\n",
    "            print(\"Now patchifying image:\", path+image_name)\n",
    "            patches_img = patchify(image, (256, 256, 3), step=256)  #Step=256 for 256 patches means no overlap\n",
    "    \n",
    "            for i in range(patches_img.shape[0]):\n",
    "                for j in range(patches_img.shape[1]):\n",
    "                    \n",
    "                    single_patch_img = patches_img[i,j,:,:]\n",
    "                    single_patch_img = single_patch_img[0] #Drop the extra unecessary dimension that patchify adds.                               \n",
    "                    \n",
    "                    cv2.imwrite(root_directory+\"patch_mosaics/\"+\n",
    "                               image_name[:-4]+\"_patch_\"+str(i)+str(j)+\".jpg\", single_patch_img)"
   ]
  },
  {
   "cell_type": "code",
   "execution_count": 7,
   "metadata": {
    "id": "cQNSoH5a73Ey"
   },
   "outputs": [
    {
     "name": "stdout",
     "output_type": "stream",
     "text": [
      "Now patchifying mask: C:/Users/welcm/Documents/a-coral-project/process_data/keys/Carysfort_2019_Elkhorn_Key.jpg\n",
      "Now patchifying mask: C:/Users/welcm/Documents/a-coral-project/process_data/keys/Carysfort_2020_Elkhorn_Key.jpg\n",
      "Now patchifying mask: C:/Users/welcm/Documents/a-coral-project/process_data/keys/Carysfort_2020_Staghorn_Key.jpg\n",
      "Now patchifying mask: C:/Users/welcm/Documents/a-coral-project/process_data/keys/Carysfort_2022_Elkhorn_Key.jpg\n",
      "Now patchifying mask: C:/Users/welcm/Documents/a-coral-project/process_data/keys/Carysfort_2022_Staghorn_Key.jpg\n",
      "Now patchifying mask: C:/Users/welcm/Documents/a-coral-project/process_data/keys/Eastern_2022_Elkhorn_Key.jpg\n",
      "Now patchifying mask: C:/Users/welcm/Documents/a-coral-project/process_data/keys/Eastern_2022_Staghorn_Key.jpg\n",
      "Now patchifying mask: C:/Users/welcm/Documents/a-coral-project/process_data/keys/Horseshoe_2020_Elkhorn_Key.jpg\n",
      "Now patchifying mask: C:/Users/welcm/Documents/a-coral-project/process_data/keys/Horseshoe_2020_Staghorn_Key.jpg\n",
      "Now patchifying mask: C:/Users/welcm/Documents/a-coral-project/process_data/keys/Looe_2019_Staghorn_Key.jpg\n",
      "Now patchifying mask: C:/Users/welcm/Documents/a-coral-project/process_data/keys/North_2019_Elkhorn_Key.jpg\n",
      "Now patchifying mask: C:/Users/welcm/Documents/a-coral-project/process_data/keys/Pickles_2019_Staghorn_Key.jpg\n",
      "Now patchifying mask: C:/Users/welcm/Documents/a-coral-project/process_data/keys/Sombrero_2020_Elkhorn_Key.jpg\n",
      "Now patchifying mask: C:/Users/welcm/Documents/a-coral-project/process_data/keys/Sombrero_2020_Staghorn_Key.jpg\n",
      "Now patchifying mask: C:/Users/welcm/Documents/a-coral-project/process_data/keys/Sombrero_2022_Elkhorn_Key.jpg\n",
      "Now patchifying mask: C:/Users/welcm/Documents/a-coral-project/process_data/keys/Sombrero_2022_Staghorn_Key.jpg\n"
     ]
    }
   ],
   "source": [
    "mask_dir = root_directory + \"keys/\"\n",
    "for path, subdirs, files in os.walk(mask_dir): \n",
    "    dirname = path.split(os.path.sep)[-1]\n",
    "\n",
    "    masks = os.listdir(path)  #List of all image names in this subdirectory\n",
    "    for i, mask_name in enumerate(masks):  \n",
    "        if mask_name.endswith(\".jpg\"):           \n",
    "            mask = cv2.imread(path+\"/\"+mask_name, 0)  #Read each image as Grey (or color but remember to map each color to an integer)\n",
    "            SIZE_X = (mask.shape[1]//patch_size)*patch_size #Nearest size divisible by our patch size\n",
    "            SIZE_Y = (mask.shape[0]//patch_size)*patch_size #Nearest size divisible by our patch size\n",
    "            mask = Image.fromarray(mask)\n",
    "            mask = mask.crop((0 ,0, SIZE_X, SIZE_Y))  #Crop from top left corner\n",
    "            mask = np.array(mask)             \n",
    "   \n",
    "            #Extract patches from each image\n",
    "            print(\"Now patchifying mask:\", path+mask_name)\n",
    "            patches_mask = patchify(mask, (256, 256), step=256)  #Step=256 for 256 patches means no overlap\n",
    "    \n",
    "            for i in range(patches_mask.shape[0]):\n",
    "                for j in range(patches_mask.shape[1]):\n",
    "                    \n",
    "                    single_patch_mask = patches_mask[i,j,:,:]\n",
    "                              \n",
    "                    cv2.imwrite(root_directory+\"patch_keys/\"+\n",
    "                               mask_name[:-4]+\"_patch_\"+str(i)+str(j)+\".png\", single_patch_mask)"
   ]
  },
  {
   "cell_type": "markdown",
   "metadata": {},
   "source": [
    "## Check Mosaic and Key Numbers"
   ]
  },
  {
   "cell_type": "code",
   "execution_count": 8,
   "metadata": {},
   "outputs": [
    {
     "name": "stdout",
     "output_type": "stream",
     "text": [
      "197248\n",
      "197248\n"
     ]
    }
   ],
   "source": [
    "image_dir = root_directory + \"patch_mosaics/\"\n",
    "mask_dir = root_directory + \"patch_keys/\"\n",
    "\n",
    "img_list = os.listdir(image_dir)\n",
    "msk_list = os.listdir(mask_dir)\n",
    "\n",
    "print(len(img_list))\n",
    "print(len(msk_list))"
   ]
  },
  {
   "cell_type": "markdown",
   "metadata": {},
   "source": [
    "# Filter Useless Images"
   ]
  },
  {
   "cell_type": "code",
   "execution_count": 9,
   "metadata": {
    "id": "fZ4mw9Ff73KK"
   },
   "outputs": [
    {
     "name": "stdout",
     "output_type": "stream",
     "text": [
      "Total useful images are:  4857\n",
      "Total useless images are:  192391\n"
     ]
    }
   ],
   "source": [
    "train_img_dir = root_directory+\"patch_mosaics/\"\n",
    "train_mask_dir = root_directory+\"patch_keys/\"\n",
    "\n",
    "img_list = os.listdir(train_img_dir)\n",
    "msk_list = os.listdir(train_mask_dir)\n",
    "\n",
    "useless=0  #Useless image counter\n",
    "for img in range(len(img_list) - 1):   #Using t1_list as all lists are of same size\n",
    "    img_name=img_list[img]\n",
    "    mask_name = msk_list[img]\n",
    "#     print(\"Now preparing image and masks number: \", img)\n",
    "      \n",
    "    temp_image=cv2.imread(train_img_dir+img_list[img], 1)\n",
    "   \n",
    "    temp_mask=cv2.imread(train_mask_dir+msk_list[img], 0)\n",
    "    #temp_mask=temp_mask.astype(np.uint8)\n",
    "    \n",
    "    val, counts = np.unique(temp_mask, return_counts=True)\n",
    "    \n",
    "    if (1 - (counts[0]/counts.sum())) > 0.05:  #At least 5% useful area with labels that are not 0\n",
    "        cv2.imwrite(root_directory+'filter_patch_mosaics/'+img_name, temp_image)\n",
    "        cv2.imwrite(root_directory+'filter_patch_keys/'+mask_name, temp_mask)\n",
    "        \n",
    "    else:\n",
    "        useless +=1\n",
    "\n",
    "print(\"Total useful images are: \", len(img_list)-useless)  #20,075\n",
    "print(\"Total useless images are: \", useless) #21,571"
   ]
  },
  {
   "cell_type": "markdown",
   "metadata": {},
   "source": [
    "## Check Filtered Mosaic and Key Numbers"
   ]
  },
  {
   "cell_type": "code",
   "execution_count": 12,
   "metadata": {},
   "outputs": [
    {
     "name": "stdout",
     "output_type": "stream",
     "text": [
      "4856\n",
      "4856\n"
     ]
    }
   ],
   "source": [
    "image_dir = root_directory + \"filter_patch_mosaics/\"\n",
    "mask_dir = root_directory + \"filter_patch_keys/\"\n",
    "\n",
    "img_list = os.listdir(image_dir)\n",
    "msk_list = os.listdir(mask_dir)\n",
    "\n",
    "print(len(img_list))\n",
    "print(len(msk_list))"
   ]
  },
  {
   "cell_type": "markdown",
   "metadata": {},
   "source": [
    "# Assign Pixel Values"
   ]
  },
  {
   "cell_type": "code",
   "execution_count": 13,
   "metadata": {},
   "outputs": [],
   "source": [
    "root_directory = \"C:/Users/welcm/Documents/a-coral-project/process_data/\" \n",
    "\n",
    "save_dir = root_directory + \"pixel_filter_patch_keys/\"\n",
    "mask_dir = root_directory + \"filter_patch_keys/\"\n",
    "\n",
    "msk_list = os.listdir(mask_dir)"
   ]
  },
  {
   "cell_type": "code",
   "execution_count": 14,
   "metadata": {},
   "outputs": [
    {
     "name": "stdout",
     "output_type": "stream",
     "text": [
      "2195 2661\n"
     ]
    }
   ],
   "source": [
    "root_directory = \"C:/Users/welcm/Documents/a-coral-project/process_data/\" \n",
    "\n",
    "save_dir = root_directory + \"pixel_filter_patch_keys/\"\n",
    "\n",
    "e = 0\n",
    "s = 0\n",
    "\n",
    "for img in msk_list:\n",
    "    # ELKHORN = 2\n",
    "    if 'elkhorn' in img.lower():\n",
    "        e += 1\n",
    "        mask = cv2.imread(mask_dir+img, 0)\n",
    "        for i in range(0, 256):\n",
    "            for j in range(0, 256):\n",
    "                if mask[i][j] > 10:\n",
    "                    mask[i][j] = 2\n",
    "                else:\n",
    "                    mask[i][j] = 0\n",
    "    else:\n",
    "        # STAGHORN = 1\n",
    "        s += 1\n",
    "        mask = cv2.imread(mask_dir+img, 0)\n",
    "        for i in range(0, 256):\n",
    "            for j in range(0, 256):\n",
    "                if mask[i][j] > 10:\n",
    "                    mask[i][j] = 1\n",
    "                else:\n",
    "                    mask[i][j] = 0\n",
    "\n",
    "    cv2.imwrite(save_dir+img[:-4]+'.png', mask)\n",
    "print(e,s)"
   ]
  },
  {
   "cell_type": "code",
   "execution_count": 15,
   "metadata": {},
   "outputs": [
    {
     "name": "stdout",
     "output_type": "stream",
     "text": [
      "4856\n",
      "4856\n"
     ]
    }
   ],
   "source": [
    "image_dir = \"C:/Users/welcm/Documents/a-coral-project/coral_data/data/images/\" \n",
    "mask_dir = \"C:/Users/welcm/Documents/a-coral-project/coral_data/data/masks/\"\n",
    "\n",
    "img_list = os.listdir(image_dir)\n",
    "msk_list = os.listdir(mask_dir)\n",
    "\n",
    "print(len(img_list))\n",
    "print(len(msk_list))"
   ]
  },
  {
   "cell_type": "code",
   "execution_count": 16,
   "metadata": {},
   "outputs": [
    {
     "name": "stdout",
     "output_type": "stream",
     "text": [
      "Total masks in the dataset are:  4856\n",
      "Labels in the mask are :  [0 1 2]\n"
     ]
    }
   ],
   "source": [
    "mask_names = glob.glob(\"C:/Users/welcm/Documents/a-coral-project/coral_data/data/masks/*.png\")\n",
    "mask_names.sort()\n",
    "mask_names_subset = mask_names\n",
    "masks = [cv2.imread(mask, 0) for mask in mask_names_subset]\n",
    "mask_dataset = np.array(masks)\n",
    "\n",
    "print(\"Total masks in the dataset are: \", len(mask_names))\n",
    "print(\"Labels in the mask are : \", np.unique(mask_dataset))"
   ]
  }
 ],
 "metadata": {
  "colab": {
   "provenance": []
  },
  "kernelspec": {
   "display_name": "Python 3 (ipykernel)",
   "language": "python",
   "name": "python3"
  },
  "language_info": {
   "codemirror_mode": {
    "name": "ipython",
    "version": 3
   },
   "file_extension": ".py",
   "mimetype": "text/x-python",
   "name": "python",
   "nbconvert_exporter": "python",
   "pygments_lexer": "ipython3",
   "version": "3.8.8"
  }
 },
 "nbformat": 4,
 "nbformat_minor": 1
}
