{
  "nbformat": 4,
  "nbformat_minor": 0,
  "metadata": {
    "colab": {
      "provenance": []
    },
    "kernelspec": {
      "name": "python3",
      "display_name": "Python 3"
    },
    "language_info": {
      "name": "python"
    },
    "gpuClass": "standard"
  },
  "cells": [
    {
      "cell_type": "code",
      "execution_count": null,
      "metadata": {
        "id": "TAbvGtSnhHxS"
      },
      "outputs": [],
      "source": [
        "from __future__ import print_function\n",
        "import cv2 as cv\n",
        "import os\n",
        "import numpy as np\n",
        "import argparse\n",
        "import random as rng\n",
        "from google.colab.patches import cv2_imshow\n",
        "rng.seed(12345)"
      ]
    },
    {
      "cell_type": "code",
      "source": [
        "from google.colab import drive\n",
        "drive.mount('/content/gdrive')"
      ],
      "metadata": {
        "colab": {
          "base_uri": "https://localhost:8080/"
        },
        "id": "vtc0EBhZiEuQ",
        "outputId": "35b6a769-c584-4b64-ae40-0fe84088d974"
      },
      "execution_count": null,
      "outputs": [
        {
          "output_type": "stream",
          "name": "stdout",
          "text": [
            "Mounted at /content/gdrive\n"
          ]
        }
      ]
    },
    {
      "cell_type": "code",
      "source": [
        "%cd '/content/gdrive/My Drive/crf_cv'\n",
        "img_dir = \"/content/gdrive/My Drive/crf_cv/Useful_Masks/Masks/\""
      ],
      "metadata": {
        "colab": {
          "base_uri": "https://localhost:8080/"
        },
        "id": "opsdUs6RiLQC",
        "outputId": "806cd7c6-b3ab-418e-86e6-10b0d2dd0d7d"
      },
      "execution_count": null,
      "outputs": [
        {
          "output_type": "stream",
          "name": "stdout",
          "text": [
            "/content/gdrive/My Drive/crf_cv\n"
          ]
        }
      ]
    },
    {
      "cell_type": "code",
      "source": [
        "img_list = os.listdir(img_dir)\n",
        "elk_count=0\n",
        "stag_count=0\n",
        "tot_elk_area=0\n",
        "tot_stag_area=0\n",
        "for each_img in (img_list):\n",
        "  z=str(img_dir+each_img)\n",
        "  #fi=water_shed(z)\n",
        "  if 'elk' in z.lower():\n",
        "    src = cv.imread(z)\n",
        "    number_of_white_pix = np.sum(src == 255)\n",
        "    number_of_black_pix = np.sum(src == 0)\n",
        "    tot_pix=0\n",
        "    for orp in range(0,256):\n",
        "      tot_pix=tot_pix+np.sum(src==orp)\n",
        "    height = src.shape[0]\n",
        "    width = src.shape[1]\n",
        "    temp_area=((height*width)/tot_pix)*number_of_white_pix\n",
        "    tot_elk_area=tot_elk_area+temp_area\n",
        "    src[np.all(src == 255, axis=2)] = 0\n",
        "    kernel = np.array([[1, 1, 1], [1, -8, 1], [1, 1, 1]], dtype=np.float32)\n",
        "    # do the laplacian filtering as it is\n",
        "    # well, we need to convert everything in something more deeper then CV_8U\n",
        "    # because the kernel has some negative values,\n",
        "    # and we can expect in general to have a Laplacian image with negative values\n",
        "    # BUT a 8bits unsigned int (the one we are working with) can contain values from 0 to 255\n",
        "    # so the possible negative number will be truncated\n",
        "    imgLaplacian = cv.filter2D(src, cv.CV_32F, kernel)\n",
        "    sharp = np.float32(src)\n",
        "    imgResult = sharp - imgLaplacian\n",
        "    # convert back to 8bits gray scale\n",
        "    imgResult = np.clip(imgResult, 0, 255)\n",
        "    imgResult = imgResult.astype('uint8')\n",
        "    imgLaplacian = np.clip(imgLaplacian, 0, 255)\n",
        "    imgLaplacian = np.uint8(imgLaplacian)\n",
        "    #cv.imshow('Laplace Filtered Image', imgLaplacian)\n",
        "    bw = cv.cvtColor(imgResult, cv.COLOR_BGR2GRAY)\n",
        "    _, bw = cv.threshold(bw, 40, 255, cv.THRESH_BINARY | cv.THRESH_OTSU)\n",
        "    dist = cv.distanceTransform(bw, cv.DIST_L2, 3)\n",
        "    # Normalize the distance image for range = {0.0, 1.0}\n",
        "    # so we can visualize and threshold it\n",
        "    cv.normalize(dist, dist, 0, 1.0, cv.NORM_MINMAX)\n",
        "    _, dist = cv.threshold(dist, 0.4, 1.0, cv.THRESH_BINARY)\n",
        "    # Dilate a bit the dist image\n",
        "    kernel1 = np.ones((3,3), dtype=np.uint8)\n",
        "    dist = cv.dilate(dist, kernel1)\n",
        "    dist_8u = dist.astype('uint8')\n",
        "    # Find total markers\n",
        "    contours,_= cv.findContours(dist_8u, cv.RETR_EXTERNAL, cv.CHAIN_APPROX_SIMPLE)\n",
        "    #print(len(contours))\n",
        "    # Create the marker image for the watershed algorithm\n",
        "    markers = np.zeros(dist.shape, dtype=np.int32)\n",
        "    # Draw the foreground markers\n",
        "    for i in range(len(contours)):\n",
        "        cv.drawContours(markers, contours, i, (i+1), -1)\n",
        "    # Draw the background marker\n",
        "    cv.circle(markers, (5,5), 3, (255,255,255), -1)\n",
        "    markers_8u = (markers * 10).astype('uint8')\n",
        "    cv.watershed(imgResult, markers)\n",
        "    #mark = np.zeros(markers.shape, dtype=np.uint8)\n",
        "    mark = markers.astype('uint8')\n",
        "    mark = cv.bitwise_not(mark)\n",
        "    # uncomment this if you want to see how the mark\n",
        "    # image looks like at that point\n",
        "    #cv.imshow('Markers_v2', mark)\n",
        "    # Generate random colors\n",
        "    colors = []\n",
        "    for contour in contours:\n",
        "        colors.append((rng.randint(0,256), rng.randint(0,256), rng.randint(0,256)))\n",
        "    # Create the result image\n",
        "    dst = np.zeros((markers.shape[0], markers.shape[1], 3), dtype=np.uint8)\n",
        "    # Fill labeled objects with random colors\n",
        "    for i in range(markers.shape[0]):\n",
        "        for j in range(markers.shape[1]):\n",
        "            index = markers[i,j]\n",
        "            if index > 0 and index <= len(contours):\n",
        "                dst[i,j,:] = colors[index-1]\n",
        "    elk_count=elk_count+len(contours)\n",
        "  else:\n",
        "    src = cv.imread(z)\n",
        "    number_of_white_pix = np.sum(src == 255)\n",
        "    number_of_black_pix = np.sum(src == 0)\n",
        "    tot_pix=0\n",
        "    for orp in range(0,256):\n",
        "      tot_pix=tot_pix+np.sum(src==orp)\n",
        "    height = src.shape[0]\n",
        "    width = src.shape[1]\n",
        "    temp_area=((height*width)/tot_pix)*number_of_white_pix\n",
        "    tot_stag_area=tot_stag_area+temp_area\n",
        "    src[np.all(src == 255, axis=2)] = 0\n",
        "    kernel = np.array([[1, 1, 1], [1, -8, 1], [1, 1, 1]], dtype=np.float32)\n",
        "    # do the laplacian filtering as it is\n",
        "    # well, we need to convert everything in something more deeper then CV_8U\n",
        "    # because the kernel has some negative values,\n",
        "    # and we can expect in general to have a Laplacian image with negative values\n",
        "    # BUT a 8bits unsigned int (the one we are working with) can contain values from 0 to 255\n",
        "    # so the possible negative number will be truncated\n",
        "    imgLaplacian = cv.filter2D(src, cv.CV_32F, kernel)\n",
        "    sharp = np.float32(src)\n",
        "    imgResult = sharp - imgLaplacian\n",
        "    # convert back to 8bits gray scale\n",
        "    imgResult = np.clip(imgResult, 0, 255)\n",
        "    imgResult = imgResult.astype('uint8')\n",
        "    imgLaplacian = np.clip(imgLaplacian, 0, 255)\n",
        "    imgLaplacian = np.uint8(imgLaplacian)\n",
        "    #cv.imshow('Laplace Filtered Image', imgLaplacian)\n",
        "    bw = cv.cvtColor(imgResult, cv.COLOR_BGR2GRAY)\n",
        "    _, bw = cv.threshold(bw, 40, 255, cv.THRESH_BINARY | cv.THRESH_OTSU)\n",
        "    dist = cv.distanceTransform(bw, cv.DIST_L2, 3)\n",
        "    # Normalize the distance image for range = {0.0, 1.0}\n",
        "    # so we can visualize and threshold it\n",
        "    cv.normalize(dist, dist, 0, 1.0, cv.NORM_MINMAX)\n",
        "    _, dist = cv.threshold(dist, 0.4, 1.0, cv.THRESH_BINARY)\n",
        "    # Dilate a bit the dist image\n",
        "    kernel1 = np.ones((3,3), dtype=np.uint8)\n",
        "    dist = cv.dilate(dist, kernel1)\n",
        "    dist_8u = dist.astype('uint8')\n",
        "    # Find total markers\n",
        "    contours,_= cv.findContours(dist_8u, cv.RETR_EXTERNAL, cv.CHAIN_APPROX_SIMPLE)\n",
        "    #print(len(contours))\n",
        "    # Create the marker image for the watershed algorithm\n",
        "    markers = np.zeros(dist.shape, dtype=np.int32)\n",
        "    # Draw the foreground markers\n",
        "    for i in range(len(contours)):\n",
        "        cv.drawContours(markers, contours, i, (i+1), -1)\n",
        "    # Draw the background marker\n",
        "    cv.circle(markers, (5,5), 3, (255,255,255), -1)\n",
        "    markers_8u = (markers * 10).astype('uint8')\n",
        "    cv.watershed(imgResult, markers)\n",
        "    #mark = np.zeros(markers.shape, dtype=np.uint8)\n",
        "    mark = markers.astype('uint8')\n",
        "    mark = cv.bitwise_not(mark)\n",
        "    # uncomment this if you want to see how the mark\n",
        "    # image looks like at that point\n",
        "    #cv.imshow('Markers_v2', mark)\n",
        "    # Generate random colors\n",
        "    colors = []\n",
        "    for contour in contours:\n",
        "        colors.append((rng.randint(0,256), rng.randint(0,256), rng.randint(0,256)))\n",
        "    # Create the result image\n",
        "    dst = np.zeros((markers.shape[0], markers.shape[1], 3), dtype=np.uint8)\n",
        "    # Fill labeled objects with random colors\n",
        "    for i in range(markers.shape[0]):\n",
        "        for j in range(markers.shape[1]):\n",
        "            index = markers[i,j]\n",
        "            if index > 0 and index <= len(contours):\n",
        "                dst[i,j,:] = colors[index-1]\n",
        "    stag_count=stag_count+len(contours)\n",
        "print(\"Elk_count: \",elk_count)\n",
        "print(\"Stag_count: \",stag_count)\n",
        "print(\"total_corols: \",elk_count+stag_count)\n",
        "print(\"total elk area: \",str(tot_elk_area)+str(\" mm2\"))\n",
        "print(\"tot stag area: \"+str(tot_stag_area)+str(\" mm2\"))\n",
        "print(\"total area: \"+str(tot_elk_area+tot_stag_area)+str(\" mm2   ==\"))\n"
      ],
      "metadata": {
        "colab": {
          "base_uri": "https://localhost:8080/"
        },
        "id": "bLPTtJcLhJSQ",
        "outputId": "be4fc97c-726d-42c5-ee7d-b0f95c3a839e"
      },
      "execution_count": null,
      "outputs": [
        {
          "output_type": "stream",
          "name": "stdout",
          "text": [
            "Elk_count:  915\n",
            "Stag_count:  1657\n",
            "total_corols:  2572\n",
            "total elk area:  938709.0 mm2\n",
            "tot stag area: 3149026.0 mm2\n",
            "total area: 4087735.0 mm2   ==\n"
          ]
        }
      ]
    },
    {
      "cell_type": "code",
      "source": [],
      "metadata": {
        "id": "SRopbwtmiPcz"
      },
      "execution_count": null,
      "outputs": []
    }
  ]
}